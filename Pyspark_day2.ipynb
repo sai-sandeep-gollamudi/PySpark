{
  "nbformat": 4,
  "nbformat_minor": 0,
  "metadata": {
    "colab": {
      "provenance": []
    },
    "kernelspec": {
      "name": "python3",
      "display_name": "Python 3"
    },
    "language_info": {
      "name": "python"
    }
  },
  "cells": [
    {
      "cell_type": "code",
      "source": [
        "!pip3 install pyspark"
      ],
      "metadata": {
        "colab": {
          "base_uri": "https://localhost:8080/"
        },
        "id": "iIzoGmBQw-LI",
        "outputId": "16be9e74-353c-43ed-cb2c-19b6403933b7"
      },
      "execution_count": 3,
      "outputs": [
        {
          "output_type": "stream",
          "name": "stdout",
          "text": [
            "Collecting pyspark\n",
            "  Downloading pyspark-3.5.0.tar.gz (316.9 MB)\n",
            "\u001b[2K     \u001b[90m━━━━━━━━━━━━━━━━━━━━━━━━━━━━━━━━━━━━━━━━\u001b[0m \u001b[32m316.9/316.9 MB\u001b[0m \u001b[31m4.0 MB/s\u001b[0m eta \u001b[36m0:00:00\u001b[0m\n",
            "\u001b[?25h  Preparing metadata (setup.py) ... \u001b[?25l\u001b[?25hdone\n",
            "Requirement already satisfied: py4j==0.10.9.7 in /usr/local/lib/python3.10/dist-packages (from pyspark) (0.10.9.7)\n",
            "Building wheels for collected packages: pyspark\n",
            "  Building wheel for pyspark (setup.py) ... \u001b[?25l\u001b[?25hdone\n",
            "  Created wheel for pyspark: filename=pyspark-3.5.0-py2.py3-none-any.whl size=317425345 sha256=c2c665fa0b83c789a852e8e15455e9b613bd9ec8fdad676d9f8a922edf7c4444\n",
            "  Stored in directory: /root/.cache/pip/wheels/41/4e/10/c2cf2467f71c678cfc8a6b9ac9241e5e44a01940da8fbb17fc\n",
            "Successfully built pyspark\n",
            "Installing collected packages: pyspark\n",
            "Successfully installed pyspark-3.5.0\n"
          ]
        }
      ]
    },
    {
      "cell_type": "code",
      "execution_count": 4,
      "metadata": {
        "id": "JJAtO8CUwkvp"
      },
      "outputs": [],
      "source": [
        "from pyspark import SparkContext, SparkConf"
      ]
    },
    {
      "cell_type": "code",
      "source": [
        "conf=SparkConf().setAppName(\"Advanced transformations and actions\").setMaster(\"local[2]\")\n",
        "sc=SparkContext(conf=conf)"
      ],
      "metadata": {
        "id": "mg7BpLrmwv-a"
      },
      "execution_count": 6,
      "outputs": []
    },
    {
      "cell_type": "code",
      "source": [
        "import random\n",
        "input1=random.sample(range(0,99),10)\n",
        "input2=random.sample(range(0,99),10)"
      ],
      "metadata": {
        "id": "tBBMee2Rxmt0"
      },
      "execution_count": 7,
      "outputs": []
    },
    {
      "cell_type": "code",
      "source": [
        "rdd1=sc.parallelize(input1,3)\n",
        "rdd1.glom().collect()"
      ],
      "metadata": {
        "colab": {
          "base_uri": "https://localhost:8080/"
        },
        "id": "-62meUKTyqIX",
        "outputId": "ba72e681-5204-41b1-887b-364c0be85072"
      },
      "execution_count": 9,
      "outputs": [
        {
          "output_type": "execute_result",
          "data": {
            "text/plain": [
              "[[40, 36, 5], [26, 38, 56], [53, 48, 95, 25]]"
            ]
          },
          "metadata": {},
          "execution_count": 9
        }
      ]
    },
    {
      "cell_type": "code",
      "source": [
        "rdd2=sc.parallelize(input2,3)"
      ],
      "metadata": {
        "id": "pp53XWl_yxxa"
      },
      "execution_count": 10,
      "outputs": []
    },
    {
      "cell_type": "code",
      "source": [
        "rdd2.glom().collect()"
      ],
      "metadata": {
        "colab": {
          "base_uri": "https://localhost:8080/"
        },
        "id": "kekDXjt1y5lk",
        "outputId": "1f3eaa28-5578-44fa-c7ab-a7b22ea2db5c"
      },
      "execution_count": 11,
      "outputs": [
        {
          "output_type": "execute_result",
          "data": {
            "text/plain": [
              "[[44, 6, 35], [64, 24, 1], [97, 67, 73, 23]]"
            ]
          },
          "metadata": {},
          "execution_count": 11
        }
      ]
    },
    {
      "cell_type": "code",
      "source": [
        "#union\n",
        "rdd_union=rdd1.union(rdd2)"
      ],
      "metadata": {
        "id": "JDBiWFOpy9Pi"
      },
      "execution_count": 12,
      "outputs": []
    },
    {
      "cell_type": "code",
      "source": [
        "rdd_union.collect()"
      ],
      "metadata": {
        "colab": {
          "base_uri": "https://localhost:8080/"
        },
        "id": "JX10qTfIzUij",
        "outputId": "f18f1b2c-237e-47c1-8537-0ee6c765febc"
      },
      "execution_count": 13,
      "outputs": [
        {
          "output_type": "execute_result",
          "data": {
            "text/plain": [
              "[40, 36, 5, 26, 38, 56, 53, 48, 95, 25, 44, 6, 35, 64, 24, 1, 97, 67, 73, 23]"
            ]
          },
          "metadata": {},
          "execution_count": 13
        }
      ]
    },
    {
      "cell_type": "code",
      "source": [
        "rdd_union.glom().collect()"
      ],
      "metadata": {
        "colab": {
          "base_uri": "https://localhost:8080/"
        },
        "id": "ExFrneFyzWws",
        "outputId": "ab41593c-f511-433f-a260-e5c442de2678"
      },
      "execution_count": 14,
      "outputs": [
        {
          "output_type": "execute_result",
          "data": {
            "text/plain": [
              "[[40, 36, 5],\n",
              " [26, 38, 56],\n",
              " [53, 48, 95, 25],\n",
              " [44, 6, 35],\n",
              " [64, 24, 1],\n",
              " [97, 67, 73, 23]]"
            ]
          },
          "metadata": {},
          "execution_count": 14
        }
      ]
    },
    {
      "cell_type": "code",
      "source": [
        "rdd_union.getNumPartitions()"
      ],
      "metadata": {
        "colab": {
          "base_uri": "https://localhost:8080/"
        },
        "id": "5JAuGhd0zZ7B",
        "outputId": "479e956d-9002-4f01-9024-025bf0ad4986"
      },
      "execution_count": 15,
      "outputs": [
        {
          "output_type": "execute_result",
          "data": {
            "text/plain": [
              "6"
            ]
          },
          "metadata": {},
          "execution_count": 15
        }
      ]
    },
    {
      "cell_type": "code",
      "source": [
        "#intersection\n",
        "rdd_common=rdd1.intersection(rdd2)"
      ],
      "metadata": {
        "id": "okaWWXyX0SL5"
      },
      "execution_count": 26,
      "outputs": []
    },
    {
      "cell_type": "code",
      "source": [
        "rdd_common.glom().collect()"
      ],
      "metadata": {
        "colab": {
          "base_uri": "https://localhost:8080/"
        },
        "id": "PQhdWEj30ZT_",
        "outputId": "1f6afb28-f75d-43ee-af3b-d311f889acb0"
      },
      "execution_count": 27,
      "outputs": [
        {
          "output_type": "execute_result",
          "data": {
            "text/plain": [
              "[[], [], [], [], [], []]"
            ]
          },
          "metadata": {},
          "execution_count": 27
        }
      ]
    },
    {
      "cell_type": "code",
      "source": [
        "#finding number of empty partitions\n",
        "var=0\n",
        "for i in rdd_common.glom().collect():\n",
        "  if(len(i))==0:\n",
        "    var+=1\n",
        "print(var)"
      ],
      "metadata": {
        "colab": {
          "base_uri": "https://localhost:8080/"
        },
        "id": "x_c8YNtx1uw9",
        "outputId": "e68a7b1f-136a-4c45-d8ba-d8551e27c142"
      },
      "execution_count": 28,
      "outputs": [
        {
          "output_type": "stream",
          "name": "stdout",
          "text": [
            "6\n"
          ]
        }
      ]
    },
    {
      "cell_type": "code",
      "source": [
        "if var>4:\n",
        "  values_in_list=rdd_common.coalesce(1).collect()#coalesce(num of partitions) used to reduce the number of partitions to 1 in this case"
      ],
      "metadata": {
        "id": "sQk5Cyn-0dFU"
      },
      "execution_count": 29,
      "outputs": []
    },
    {
      "cell_type": "code",
      "source": [
        "values_in_list"
      ],
      "metadata": {
        "colab": {
          "base_uri": "https://localhost:8080/"
        },
        "id": "vUVC5cC02cr2",
        "outputId": "1e4a650a-b073-4a93-97ac-5ed907d430c6"
      },
      "execution_count": 30,
      "outputs": [
        {
          "output_type": "execute_result",
          "data": {
            "text/plain": [
              "[]"
            ]
          },
          "metadata": {},
          "execution_count": 30
        }
      ]
    },
    {
      "cell_type": "code",
      "source": [
        "rdd3 = sc.parallelize([(1,4),(2,6),(3,8),(4,2),(1,7),(1,9),(2,8),(2,7),(3,9),(3,4)],3)"
      ],
      "metadata": {
        "id": "CPOvHWyN2gN2"
      },
      "execution_count": 32,
      "outputs": []
    },
    {
      "cell_type": "code",
      "source": [
        "rdd3.reduceByKey(lambda x,y: x+y).collect()"
      ],
      "metadata": {
        "colab": {
          "base_uri": "https://localhost:8080/"
        },
        "id": "0NhQiTKeEmyN",
        "outputId": "cba8ec0e-dbbc-4579-8c54-ce31d59708e7"
      },
      "execution_count": 33,
      "outputs": [
        {
          "output_type": "execute_result",
          "data": {
            "text/plain": [
              "[(3, 21), (1, 20), (4, 2), (2, 21)]"
            ]
          },
          "metadata": {},
          "execution_count": 33
        }
      ]
    },
    {
      "cell_type": "code",
      "source": [
        "rdd3.reduceByKey(lambda x,y:x+y).sortByKey().collect()"
      ],
      "metadata": {
        "colab": {
          "base_uri": "https://localhost:8080/"
        },
        "id": "6NjlodU0FDFu",
        "outputId": "d46214c1-abaf-4034-da15-0afcd26c0eee"
      },
      "execution_count": 34,
      "outputs": [
        {
          "output_type": "execute_result",
          "data": {
            "text/plain": [
              "[(1, 20), (2, 21), (3, 21), (4, 2)]"
            ]
          },
          "metadata": {},
          "execution_count": 34
        }
      ]
    },
    {
      "cell_type": "code",
      "source": [
        "rdd3.countByKey()"
      ],
      "metadata": {
        "colab": {
          "base_uri": "https://localhost:8080/"
        },
        "id": "O5Aftkz2FR6t",
        "outputId": "fda792cb-3093-4484-e07b-ee84d01378b0"
      },
      "execution_count": 35,
      "outputs": [
        {
          "output_type": "execute_result",
          "data": {
            "text/plain": [
              "defaultdict(int, {1: 3, 2: 3, 3: 3, 4: 1})"
            ]
          },
          "metadata": {},
          "execution_count": 35
        }
      ]
    },
    {
      "cell_type": "code",
      "source": [
        "rdd3.countByKey().items()"
      ],
      "metadata": {
        "colab": {
          "base_uri": "https://localhost:8080/"
        },
        "id": "oGfCs0euFWXR",
        "outputId": "dbceff26-a9c8-426a-871f-4258eb976418"
      },
      "execution_count": 36,
      "outputs": [
        {
          "output_type": "execute_result",
          "data": {
            "text/plain": [
              "dict_items([(1, 3), (2, 3), (3, 3), (4, 1)])"
            ]
          },
          "metadata": {},
          "execution_count": 36
        }
      ]
    },
    {
      "cell_type": "code",
      "source": [
        "gbk=rdd3.groupByKey()"
      ],
      "metadata": {
        "id": "rwLklV7hFlTz"
      },
      "execution_count": 38,
      "outputs": []
    },
    {
      "cell_type": "code",
      "source": [
        "gbk.getNumPartitions()"
      ],
      "metadata": {
        "colab": {
          "base_uri": "https://localhost:8080/"
        },
        "id": "w8_suOBhFxxe",
        "outputId": "2a81048b-ee3d-4587-d002-bb7f81ca7637"
      },
      "execution_count": 41,
      "outputs": [
        {
          "output_type": "execute_result",
          "data": {
            "text/plain": [
              "3"
            ]
          },
          "metadata": {},
          "execution_count": 41
        }
      ]
    },
    {
      "cell_type": "code",
      "source": [
        "gbk.collect()"
      ],
      "metadata": {
        "colab": {
          "base_uri": "https://localhost:8080/"
        },
        "id": "_tiRKRaRFt8Y",
        "outputId": "58a288c3-c99e-4e04-97b8-212584dae699"
      },
      "execution_count": 40,
      "outputs": [
        {
          "output_type": "execute_result",
          "data": {
            "text/plain": [
              "[(3, <pyspark.resultiterable.ResultIterable at 0x7e768efdb160>),\n",
              " (1, <pyspark.resultiterable.ResultIterable at 0x7e768efdb2e0>),\n",
              " (4, <pyspark.resultiterable.ResultIterable at 0x7e768efdbb50>),\n",
              " (2, <pyspark.resultiterable.ResultIterable at 0x7e768efdbf40>)]"
            ]
          },
          "metadata": {},
          "execution_count": 40
        }
      ]
    },
    {
      "cell_type": "code",
      "source": [],
      "metadata": {
        "id": "m4wak2dpGFA1"
      },
      "execution_count": 42,
      "outputs": []
    }
  ]
}