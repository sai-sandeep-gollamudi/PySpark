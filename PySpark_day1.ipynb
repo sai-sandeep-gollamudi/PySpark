{
  "nbformat": 4,
  "nbformat_minor": 0,
  "metadata": {
    "colab": {
      "provenance": []
    },
    "kernelspec": {
      "name": "python3",
      "display_name": "Python 3"
    },
    "language_info": {
      "name": "python"
    }
  },
  "cells": [
    {
      "cell_type": "code",
      "execution_count": null,
      "metadata": {
        "id": "M6UgrQnDE2KG",
        "colab": {
          "base_uri": "https://localhost:8080/"
        },
        "outputId": "e2519715-1833-4b2e-ed42-5284c8528be4"
      },
      "outputs": [
        {
          "output_type": "stream",
          "name": "stdout",
          "text": [
            "Collecting pyspark\n",
            "  Downloading pyspark-3.5.0.tar.gz (316.9 MB)\n",
            "\u001b[2K     \u001b[90m━━━━━━━━━━━━━━━━━━━━━━━━━━━━━━━━━━━━━━━━\u001b[0m \u001b[32m316.9/316.9 MB\u001b[0m \u001b[31m3.8 MB/s\u001b[0m eta \u001b[36m0:00:00\u001b[0m\n",
            "\u001b[?25h  Preparing metadata (setup.py) ... \u001b[?25l\u001b[?25hdone\n",
            "Requirement already satisfied: py4j==0.10.9.7 in /usr/local/lib/python3.10/dist-packages (from pyspark) (0.10.9.7)\n",
            "Building wheels for collected packages: pyspark\n",
            "  Building wheel for pyspark (setup.py) ... \u001b[?25l\u001b[?25hdone\n",
            "  Created wheel for pyspark: filename=pyspark-3.5.0-py2.py3-none-any.whl size=317425345 sha256=165d3aea3f424f1ce3a3bd04665bb16148dd0e713775916fdbfdca06d9c14d1c\n",
            "  Stored in directory: /root/.cache/pip/wheels/41/4e/10/c2cf2467f71c678cfc8a6b9ac9241e5e44a01940da8fbb17fc\n",
            "Successfully built pyspark\n",
            "Installing collected packages: pyspark\n",
            "Successfully installed pyspark-3.5.0\n"
          ]
        }
      ],
      "source": [
        "!pip3 install pyspark"
      ]
    },
    {
      "cell_type": "code",
      "source": [
        "from pyspark import SparkContext, SparkConf"
      ],
      "metadata": {
        "id": "SPQYr_pKcNOS"
      },
      "execution_count": null,
      "outputs": []
    },
    {
      "cell_type": "code",
      "source": [
        "conf=SparkConf().setAppName(\"PySpark_Practice\").setMaster(\"local[2]\")\n",
        "sc=SparkContext(conf=conf)"
      ],
      "metadata": {
        "id": "DM9XeJtvciNv"
      },
      "execution_count": null,
      "outputs": []
    },
    {
      "cell_type": "code",
      "source": [
        "print(sc)"
      ],
      "metadata": {
        "colab": {
          "base_uri": "https://localhost:8080/"
        },
        "id": "5rR2ZzGodJjd",
        "outputId": "ca51c347-e652-4d6c-cc0f-5f33b12216a3"
      },
      "execution_count": null,
      "outputs": [
        {
          "output_type": "stream",
          "name": "stdout",
          "text": [
            "<SparkContext master=local[2] appName=PySpark_Practice>\n"
          ]
        }
      ]
    },
    {
      "cell_type": "code",
      "source": [
        "#generating random values for input\n",
        "import random\n",
        "input=random.sample(range(0,99),20)\n",
        "print(input)"
      ],
      "metadata": {
        "colab": {
          "base_uri": "https://localhost:8080/"
        },
        "id": "C1R7vn03dQLg",
        "outputId": "23b366f8-8005-46a5-945c-f592aa827993"
      },
      "execution_count": null,
      "outputs": [
        {
          "output_type": "stream",
          "name": "stdout",
          "text": [
            "[69, 24, 96, 25, 4, 53, 67, 21, 66, 43, 45, 8, 75, 95, 82, 80, 76, 64, 49, 86]\n"
          ]
        }
      ]
    },
    {
      "cell_type": "code",
      "source": [
        "#creating RDD's\n",
        "rdd1=sc.parallelize(input,3)"
      ],
      "metadata": {
        "id": "lNl7t34ise60"
      },
      "execution_count": null,
      "outputs": []
    },
    {
      "cell_type": "code",
      "source": [
        "#to display the values in rdd,using collect() as I know the data is less\n",
        "rdd1.collect()"
      ],
      "metadata": {
        "colab": {
          "base_uri": "https://localhost:8080/"
        },
        "id": "nPXWHABfsvOx",
        "outputId": "a855c8b0-6ae0-4545-cefe-c300637f759e"
      },
      "execution_count": null,
      "outputs": [
        {
          "output_type": "execute_result",
          "data": {
            "text/plain": [
              "[69, 24, 96, 25, 4, 53, 67, 21, 66, 43, 45, 8, 75, 95, 82, 80, 76, 64, 49, 86]"
            ]
          },
          "metadata": {},
          "execution_count": 14
        }
      ]
    },
    {
      "cell_type": "code",
      "source": [
        "#to read the data based on partitions\n",
        "rdd1.glom().collect() #we get the data in each partition"
      ],
      "metadata": {
        "colab": {
          "base_uri": "https://localhost:8080/"
        },
        "id": "mmcKk2fLs7sw",
        "outputId": "110d66f6-0c95-46d4-bf38-25af658e0aec"
      },
      "execution_count": null,
      "outputs": [
        {
          "output_type": "execute_result",
          "data": {
            "text/plain": [
              "[[69, 24, 96, 25, 4, 53],\n",
              " [67, 21, 66, 43, 45, 8],\n",
              " [75, 95, 82, 80, 76, 64, 49, 86]]"
            ]
          },
          "metadata": {},
          "execution_count": 15
        }
      ]
    },
    {
      "cell_type": "code",
      "source": [
        "rdd1.glom().take(2)#displays data only from the first two partitions"
      ],
      "metadata": {
        "colab": {
          "base_uri": "https://localhost:8080/"
        },
        "id": "t8gk05ZrtkSL",
        "outputId": "77d43a4b-1945-4cc7-8e20-82ca4a43bd78"
      },
      "execution_count": null,
      "outputs": [
        {
          "output_type": "execute_result",
          "data": {
            "text/plain": [
              "[[69, 24, 96, 25, 4, 53], [67, 21, 66, 43, 45, 8]]"
            ]
          },
          "metadata": {},
          "execution_count": 16
        }
      ]
    },
    {
      "cell_type": "code",
      "source": [
        "rdd1.glom().collect()[2]#displays data from the partition 3"
      ],
      "metadata": {
        "colab": {
          "base_uri": "https://localhost:8080/"
        },
        "id": "pDDS4nFHuJ91",
        "outputId": "fb4fc666-171c-4688-886f-b12017448b2f"
      },
      "execution_count": null,
      "outputs": [
        {
          "output_type": "execute_result",
          "data": {
            "text/plain": [
              "[75, 95, 82, 80, 76, 64, 49, 86]"
            ]
          },
          "metadata": {},
          "execution_count": 18
        }
      ]
    },
    {
      "cell_type": "code",
      "source": [
        "rdd1.count() #count of values in all partitions"
      ],
      "metadata": {
        "colab": {
          "base_uri": "https://localhost:8080/"
        },
        "id": "RdcaoMyIuSoQ",
        "outputId": "0e48b5fa-e9ef-43ab-9a64-2dd7c0843769"
      },
      "execution_count": null,
      "outputs": [
        {
          "output_type": "execute_result",
          "data": {
            "text/plain": [
              "20"
            ]
          },
          "metadata": {},
          "execution_count": 19
        }
      ]
    },
    {
      "cell_type": "code",
      "source": [
        "rdd1.first() #gives the first value"
      ],
      "metadata": {
        "colab": {
          "base_uri": "https://localhost:8080/"
        },
        "id": "xK_cnAfkumZZ",
        "outputId": "48eef156-4d7a-4b9c-ce52-d0b5a483af80"
      },
      "execution_count": null,
      "outputs": [
        {
          "output_type": "execute_result",
          "data": {
            "text/plain": [
              "69"
            ]
          },
          "metadata": {},
          "execution_count": 20
        }
      ]
    },
    {
      "cell_type": "code",
      "source": [
        "rdd1.min()"
      ],
      "metadata": {
        "colab": {
          "base_uri": "https://localhost:8080/"
        },
        "id": "HP-EYQ6hupah",
        "outputId": "d2631541-fc1d-4fb8-dd05-12b4f0ad48a9"
      },
      "execution_count": null,
      "outputs": [
        {
          "output_type": "execute_result",
          "data": {
            "text/plain": [
              "4"
            ]
          },
          "metadata": {},
          "execution_count": 21
        }
      ]
    },
    {
      "cell_type": "code",
      "source": [
        "rdd1.max()"
      ],
      "metadata": {
        "colab": {
          "base_uri": "https://localhost:8080/"
        },
        "id": "fabRYBwGutn7",
        "outputId": "7510e056-5859-4f2e-d625-59b14777b7a1"
      },
      "execution_count": null,
      "outputs": [
        {
          "output_type": "execute_result",
          "data": {
            "text/plain": [
              "96"
            ]
          },
          "metadata": {},
          "execution_count": 22
        }
      ]
    },
    {
      "cell_type": "code",
      "source": [
        "rdd1.mean()"
      ],
      "metadata": {
        "colab": {
          "base_uri": "https://localhost:8080/"
        },
        "id": "TvLkfasRuvRM",
        "outputId": "85ff4be9-10ac-44fd-a4d8-938a80568aa0"
      },
      "execution_count": null,
      "outputs": [
        {
          "output_type": "execute_result",
          "data": {
            "text/plain": [
              "56.4"
            ]
          },
          "metadata": {},
          "execution_count": 23
        }
      ]
    },
    {
      "cell_type": "code",
      "source": [
        "rdd1.stdev()"
      ],
      "metadata": {
        "colab": {
          "base_uri": "https://localhost:8080/"
        },
        "id": "PsSU7tevuxSY",
        "outputId": "84f9a0a5-fac2-4034-ebb7-3df0310c626f"
      },
      "execution_count": null,
      "outputs": [
        {
          "output_type": "execute_result",
          "data": {
            "text/plain": [
              "27.43246252161843"
            ]
          },
          "metadata": {},
          "execution_count": 24
        }
      ]
    },
    {
      "cell_type": "code",
      "source": [
        "round(rdd1.stdev(),2)"
      ],
      "metadata": {
        "colab": {
          "base_uri": "https://localhost:8080/"
        },
        "id": "QUAZsviou0m6",
        "outputId": "fd564a32-4d13-45fd-eb66-b2c613b5851e"
      },
      "execution_count": null,
      "outputs": [
        {
          "output_type": "execute_result",
          "data": {
            "text/plain": [
              "27.43"
            ]
          },
          "metadata": {},
          "execution_count": 25
        }
      ]
    },
    {
      "cell_type": "code",
      "source": [
        "rdd1.distinct().collect()"
      ],
      "metadata": {
        "colab": {
          "base_uri": "https://localhost:8080/"
        },
        "id": "R6t-Bth3u31v",
        "outputId": "553b3d96-2689-4fa7-a8cc-9cd9fc7768ab"
      },
      "execution_count": null,
      "outputs": [
        {
          "output_type": "execute_result",
          "data": {
            "text/plain": [
              "[69, 24, 96, 21, 66, 45, 75, 25, 4, 67, 43, 82, 76, 64, 49, 53, 8, 95, 80, 86]"
            ]
          },
          "metadata": {},
          "execution_count": 26
        }
      ]
    },
    {
      "cell_type": "code",
      "source": [
        "map_values=rdd1.map(lambda x:x+7)"
      ],
      "metadata": {
        "id": "ktrPXQg6u-2R"
      },
      "execution_count": null,
      "outputs": []
    },
    {
      "cell_type": "code",
      "source": [
        "map_values.glom().collect() #returns all the values, function is applied to every element"
      ],
      "metadata": {
        "colab": {
          "base_uri": "https://localhost:8080/"
        },
        "id": "uTdKid2ivPGv",
        "outputId": "3ef4d74c-ba1c-4099-9e0b-831a0ea38090"
      },
      "execution_count": null,
      "outputs": [
        {
          "output_type": "execute_result",
          "data": {
            "text/plain": [
              "[[76, 31, 103, 32, 11, 60],\n",
              " [74, 28, 73, 50, 52, 15],\n",
              " [82, 102, 89, 87, 83, 71, 56, 93]]"
            ]
          },
          "metadata": {},
          "execution_count": 31
        }
      ]
    },
    {
      "cell_type": "code",
      "source": [
        "filter_values=rdd1.filter(lambda x: x%4==0) #\n",
        "filter_values.glom().collect()"
      ],
      "metadata": {
        "colab": {
          "base_uri": "https://localhost:8080/"
        },
        "id": "wJOhoKiIvQuy",
        "outputId": "aaf86ddf-bdf7-43d7-e4fe-978ecb0f34a4"
      },
      "execution_count": null,
      "outputs": [
        {
          "output_type": "execute_result",
          "data": {
            "text/plain": [
              "[[24, 96, 4], [8], [80, 76, 64]]"
            ]
          },
          "metadata": {},
          "execution_count": 33
        }
      ]
    },
    {
      "cell_type": "code",
      "source": [
        "flatMap_values=rdd1.flatMap(lambda x:[x+7,x+9])\n",
        "print(flatMap_values.collect())"
      ],
      "metadata": {
        "colab": {
          "base_uri": "https://localhost:8080/"
        },
        "id": "6E9zp7iyv35A",
        "outputId": "6f0e1670-e406-4920-b76b-73deb25ebb7d"
      },
      "execution_count": null,
      "outputs": [
        {
          "output_type": "stream",
          "name": "stdout",
          "text": [
            "[76, 78, 31, 33, 103, 105, 32, 34, 11, 13, 60, 62, 74, 76, 28, 30, 73, 75, 50, 52, 52, 54, 15, 17, 82, 84, 102, 104, 89, 91, 87, 89, 83, 85, 71, 73, 56, 58, 93, 95]\n"
          ]
        }
      ]
    },
    {
      "cell_type": "code",
      "source": [
        "def partitionSum(partition):\n",
        "  partition_sum=0\n",
        "  for i in partition:\n",
        "    partition_sum = partition_sum+(i*3)\n",
        "  yield partition_sum"
      ],
      "metadata": {
        "id": "j0-1DLb1wBkN"
      },
      "execution_count": null,
      "outputs": []
    },
    {
      "cell_type": "code",
      "source": [
        "map_partition_result=rdd1.mapPartitions(partitionSum)#the function is applied to each partition rather than element, result contains final values of each partition\n",
        "map_partition_result.collect()"
      ],
      "metadata": {
        "colab": {
          "base_uri": "https://localhost:8080/"
        },
        "id": "32juF9Y21G24",
        "outputId": "b6e057a6-2deb-4a57-8dde-cf489ef137e7"
      },
      "execution_count": null,
      "outputs": [
        {
          "output_type": "execute_result",
          "data": {
            "text/plain": [
              "[813, 750, 1821]"
            ]
          },
          "metadata": {},
          "execution_count": 45
        }
      ]
    },
    {
      "cell_type": "code",
      "source": [],
      "metadata": {
        "id": "t6aFIP_F1z82"
      },
      "execution_count": null,
      "outputs": []
    }
  ]
}